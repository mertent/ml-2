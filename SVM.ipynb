{
  "nbformat": 4,
  "nbformat_minor": 0,
  "metadata": {
    "colab": {
      "name": "SVM.ipynb",
      "provenance": [],
      "collapsed_sections": [
        "Ubnwayoxq4Eo"
      ],
      "toc_visible": true,
      "authorship_tag": "ABX9TyPxtJmdCu86oGiurkCwHuff",
      "include_colab_link": true
    },
    "kernelspec": {
      "name": "python3",
      "display_name": "Python 3"
    },
    "language_info": {
      "name": "python"
    }
  },
  "cells": [
    {
      "cell_type": "markdown",
      "metadata": {
        "id": "view-in-github",
        "colab_type": "text"
      },
      "source": [
        "<a href=\"https://colab.research.google.com/github/mertent/ml-2/blob/main/SVM.ipynb\" target=\"_parent\"><img src=\"https://colab.research.google.com/assets/colab-badge.svg\" alt=\"Open In Colab\"/></a>"
      ]
    },
    {
      "cell_type": "code",
      "metadata": {
        "id": "mit4dzsUpoz0"
      },
      "source": [
        "import matplotlib as plt\n",
        "\n",
        "%matplotlib inline\n",
        "plt.rcParams[\"figure.figsize\"] = [25, 15]"
      ],
      "execution_count": 30,
      "outputs": []
    },
    {
      "cell_type": "markdown",
      "metadata": {
        "id": "n_dnfYEBTT0Z"
      },
      "source": [
        "# Genre selection"
      ]
    },
    {
      "cell_type": "code",
      "metadata": {
        "id": "KAZ7AzBPTb-h"
      },
      "source": [
        "from google.colab import auth\n",
        "\n",
        "import pandas as pd\n",
        "import numpy as np\n",
        "\n",
        "project_id = 'ml-project-309813'\n",
        "bucket_name = 'ml_sprint2_mp3'\n",
        "\n",
        "def init_cloud():\n",
        "  auth.authenticate_user()\n",
        "\n",
        "  !gcloud config set project {project_id}\n",
        "\n",
        "def download_from_cloud(filepath, unzip = False):\n",
        "  init_cloud()\n",
        "  filename = filepath.split('/')[-1]\n",
        "  !gsutil cp gs://{bucket_name}/$filepath .\n",
        "  if unzip:\n",
        "    !unzip -q $filename\n",
        "    !rm $filename\n",
        "\n",
        "def upload_to_cloud(filename, zip = False):\n",
        "  init_cloud()\n",
        "  if zip:\n",
        "    zipname = '{}.zip'.format(filename)\n",
        "    !zip $zipname $filename\n",
        "    !gsutil cp $zipname gs://{bucket_name}/\n",
        "    !rm $zipname\n",
        "  else:\n",
        "    !gsutil cp $filename gs://{bucket_name}/"
      ],
      "execution_count": 2,
      "outputs": []
    },
    {
      "cell_type": "code",
      "metadata": {
        "colab": {
          "base_uri": "https://localhost:8080/"
        },
        "id": "6KiOtTBCTTJL",
        "outputId": "a5476e73-5a07-4366-9d43-70a5e5894dfa"
      },
      "source": [
        "download_from_cloud('tracks_with_sample.pkl.zip', unzip = True)"
      ],
      "execution_count": 3,
      "outputs": [
        {
          "output_type": "stream",
          "text": [
            "Updated property [core/project].\n",
            "Copying gs://ml_sprint2_mp3/tracks_with_sample.pkl.zip...\n",
            "/ [1 files][  6.8 MiB/  6.8 MiB]                                                \n",
            "Operation completed over 1 objects/6.8 MiB.                                      \n",
            "replace tracks_with_sample.pkl? [y]es, [n]o, [A]ll, [N]one, [r]ename: N\n"
          ],
          "name": "stdout"
        }
      ]
    },
    {
      "cell_type": "code",
      "metadata": {
        "id": "LFpelBkRT0QX"
      },
      "source": [
        "tracks = pd.read_pickle('tracks_with_sample.pkl')"
      ],
      "execution_count": 4,
      "outputs": []
    },
    {
      "cell_type": "code",
      "metadata": {
        "id": "TZTHuUoUUM8k"
      },
      "source": [
        "genres = ['sad', 'happy', 'heavy-metal', 'k-pop', 'blues', 'alt-rock', 'classical', 'jazz', 'disco', 'drum-and-bass']"
      ],
      "execution_count": 5,
      "outputs": []
    },
    {
      "cell_type": "code",
      "metadata": {
        "colab": {
          "base_uri": "https://localhost:8080/",
          "height": 362
        },
        "id": "IozmIveEUkeE",
        "outputId": "3a8216ce-d119-4608-a68c-d7dcb52bd132"
      },
      "source": [
        "tracks[tracks['genre'].isin(genres)].value_counts('genre').plot(kind = 'bar')"
      ],
      "execution_count": 6,
      "outputs": [
        {
          "output_type": "execute_result",
          "data": {
            "text/plain": [
              "<matplotlib.axes._subplots.AxesSubplot at 0x7f214e518c90>"
            ]
          },
          "metadata": {
            "tags": []
          },
          "execution_count": 6
        },
        {
          "output_type": "display_data",
          "data": {
            "image/png": "[encoded data removed]",
            "text/plain": [
              "<Figure size 432x288 with 1 Axes>"
            ]
          },
          "metadata": {
            "tags": [],
            "needs_background": "light"
          }
        }
      ]
    },
    {
      "cell_type": "markdown",
      "metadata": {
        "id": "ABpIKIWsds1I"
      },
      "source": [
        "# Data preprocessing"
      ]
    },
    {
      "cell_type": "code",
      "metadata": {
        "id": "7HrV0wi3mTkU"
      },
      "source": [
        "from sklearn.preprocessing import StandardScaler\n",
        "from sklearn.model_selection import train_test_split"
      ],
      "execution_count": 7,
      "outputs": []
    },
    {
      "cell_type": "code",
      "metadata": {
        "colab": {
          "base_uri": "https://localhost:8080/"
        },
        "id": "Jcwe0JUpVa2-",
        "outputId": "b82d4514-ce3c-42a4-8935-811485150175"
      },
      "source": [
        "download_from_cloud('data.csv.zip', unzip = True)"
      ],
      "execution_count": 8,
      "outputs": [
        {
          "output_type": "stream",
          "text": [
            "Updated property [core/project].\n",
            "Copying gs://ml_sprint2_mp3/data.csv.zip...\n",
            "/ [1 files][ 14.7 MiB/ 14.7 MiB]                                                \n",
            "Operation completed over 1 objects/14.7 MiB.                                     \n",
            "replace data.csv? [y]es, [n]o, [A]ll, [N]one, [r]ename: N\n"
          ],
          "name": "stdout"
        }
      ]
    },
    {
      "cell_type": "code",
      "metadata": {
        "colab": {
          "base_uri": "https://localhost:8080/",
          "height": 223
        },
        "id": "JtHdnwUXVivP",
        "outputId": "f41938c2-c94d-4a1d-da59-ccf2d29a965a"
      },
      "source": [
        "csv = pd.read_csv('data.csv').drop('instrumentalness', axis = 1)\n",
        "csv.head()\n"
      ],
      "execution_count": 9,
      "outputs": [
        {
          "output_type": "execute_result",
          "data": {
            "text/html": [
              "<div>\n",
              "<style scoped>\n",
              "    .dataframe tbody tr th:only-of-type {\n",
              "        vertical-align: middle;\n",
              "    }\n",
              "\n",
              "    .dataframe tbody tr th {\n",
              "        vertical-align: top;\n",
              "    }\n",
              "\n",
              "    .dataframe thead th {\n",
              "        text-align: right;\n",
              "    }\n",
              "</style>\n",
              "<table border=\"1\" class=\"dataframe\">\n",
              "  <thead>\n",
              "    <tr style=\"text-align: right;\">\n",
              "      <th></th>\n",
              "      <th>track_id</th>\n",
              "      <th>chroma_stft</th>\n",
              "      <th>rmse</th>\n",
              "      <th>spectral_centroid</th>\n",
              "      <th>spectral_bandwidth</th>\n",
              "      <th>rolloff</th>\n",
              "      <th>zero_crossing_rate</th>\n",
              "      <th>mfcc1</th>\n",
              "      <th>mfcc2</th>\n",
              "      <th>mfcc3</th>\n",
              "      <th>mfcc4</th>\n",
              "      <th>mfcc5</th>\n",
              "      <th>mfcc6</th>\n",
              "      <th>mfcc7</th>\n",
              "      <th>mfcc8</th>\n",
              "      <th>mfcc9</th>\n",
              "      <th>mfcc10</th>\n",
              "      <th>mfcc11</th>\n",
              "      <th>mfcc12</th>\n",
              "      <th>mfcc13</th>\n",
              "      <th>mfcc14</th>\n",
              "      <th>mfcc15</th>\n",
              "      <th>mfcc16</th>\n",
              "      <th>mfcc17</th>\n",
              "      <th>mfcc18</th>\n",
              "      <th>mfcc19</th>\n",
              "      <th>mfcc20</th>\n",
              "    </tr>\n",
              "  </thead>\n",
              "  <tbody>\n",
              "    <tr>\n",
              "      <th>0</th>\n",
              "      <td>7m7SLo5HUI0DyDXzMh8wNv</td>\n",
              "      <td>0.461419</td>\n",
              "      <td>0.349618</td>\n",
              "      <td>2747.332185</td>\n",
              "      <td>2554.214631</td>\n",
              "      <td>5601.416129</td>\n",
              "      <td>0.140665</td>\n",
              "      <td>56.223515</td>\n",
              "      <td>73.457298</td>\n",
              "      <td>-18.041945</td>\n",
              "      <td>26.415985</td>\n",
              "      <td>1.756558</td>\n",
              "      <td>9.851189</td>\n",
              "      <td>0.590065</td>\n",
              "      <td>7.277120</td>\n",
              "      <td>3.868406</td>\n",
              "      <td>13.852572</td>\n",
              "      <td>-2.941686</td>\n",
              "      <td>5.088948</td>\n",
              "      <td>-4.421315</td>\n",
              "      <td>2.747003</td>\n",
              "      <td>-3.081998</td>\n",
              "      <td>3.358888</td>\n",
              "      <td>-3.392253</td>\n",
              "      <td>3.239243</td>\n",
              "      <td>3.219959</td>\n",
              "      <td>4.650892</td>\n",
              "    </tr>\n",
              "    <tr>\n",
              "      <th>1</th>\n",
              "      <td>6d67dxOSfGKh5PdajyLSWm</td>\n",
              "      <td>0.483012</td>\n",
              "      <td>0.265985</td>\n",
              "      <td>2112.421234</td>\n",
              "      <td>2445.767968</td>\n",
              "      <td>4749.262949</td>\n",
              "      <td>0.059092</td>\n",
              "      <td>-78.577553</td>\n",
              "      <td>97.260010</td>\n",
              "      <td>15.902855</td>\n",
              "      <td>32.797787</td>\n",
              "      <td>0.600500</td>\n",
              "      <td>13.400225</td>\n",
              "      <td>-2.983642</td>\n",
              "      <td>9.846685</td>\n",
              "      <td>-8.518023</td>\n",
              "      <td>10.379026</td>\n",
              "      <td>-4.649569</td>\n",
              "      <td>4.574261</td>\n",
              "      <td>-2.577501</td>\n",
              "      <td>1.222419</td>\n",
              "      <td>3.834130</td>\n",
              "      <td>6.670552</td>\n",
              "      <td>1.522592</td>\n",
              "      <td>8.789327</td>\n",
              "      <td>3.231066</td>\n",
              "      <td>2.853462</td>\n",
              "    </tr>\n",
              "    <tr>\n",
              "      <th>2</th>\n",
              "      <td>6226wcHJbifKCqhN8ZCkMg</td>\n",
              "      <td>0.364345</td>\n",
              "      <td>0.188669</td>\n",
              "      <td>2068.356307</td>\n",
              "      <td>2349.537868</td>\n",
              "      <td>4540.447545</td>\n",
              "      <td>0.069081</td>\n",
              "      <td>-114.790535</td>\n",
              "      <td>96.585663</td>\n",
              "      <td>17.304708</td>\n",
              "      <td>30.451933</td>\n",
              "      <td>-4.400069</td>\n",
              "      <td>14.700328</td>\n",
              "      <td>-9.050969</td>\n",
              "      <td>2.998199</td>\n",
              "      <td>-5.182761</td>\n",
              "      <td>2.615429</td>\n",
              "      <td>-10.854939</td>\n",
              "      <td>0.760484</td>\n",
              "      <td>-3.946095</td>\n",
              "      <td>-0.060809</td>\n",
              "      <td>-6.774857</td>\n",
              "      <td>-1.057367</td>\n",
              "      <td>-4.474327</td>\n",
              "      <td>-0.674645</td>\n",
              "      <td>-7.189997</td>\n",
              "      <td>2.244162</td>\n",
              "    </tr>\n",
              "    <tr>\n",
              "      <th>3</th>\n",
              "      <td>2G4iTsdENLdVI8mWxZ6l6n</td>\n",
              "      <td>0.426456</td>\n",
              "      <td>0.225496</td>\n",
              "      <td>1913.436591</td>\n",
              "      <td>2018.147118</td>\n",
              "      <td>3826.718527</td>\n",
              "      <td>0.096819</td>\n",
              "      <td>-26.478724</td>\n",
              "      <td>117.908524</td>\n",
              "      <td>-29.189484</td>\n",
              "      <td>32.336597</td>\n",
              "      <td>2.403701</td>\n",
              "      <td>5.549382</td>\n",
              "      <td>-3.379838</td>\n",
              "      <td>13.127804</td>\n",
              "      <td>-3.544428</td>\n",
              "      <td>7.435021</td>\n",
              "      <td>-5.242411</td>\n",
              "      <td>6.120144</td>\n",
              "      <td>-3.433726</td>\n",
              "      <td>0.829871</td>\n",
              "      <td>-4.526956</td>\n",
              "      <td>2.918036</td>\n",
              "      <td>-4.669353</td>\n",
              "      <td>-0.692641</td>\n",
              "      <td>-2.682045</td>\n",
              "      <td>0.892190</td>\n",
              "    </tr>\n",
              "    <tr>\n",
              "      <th>4</th>\n",
              "      <td>2btKz4s1XrMn5VHe7xZJpi</td>\n",
              "      <td>0.396857</td>\n",
              "      <td>0.315556</td>\n",
              "      <td>2272.510277</td>\n",
              "      <td>2467.051733</td>\n",
              "      <td>4823.704165</td>\n",
              "      <td>0.086627</td>\n",
              "      <td>-64.377640</td>\n",
              "      <td>82.928268</td>\n",
              "      <td>-10.065195</td>\n",
              "      <td>21.885105</td>\n",
              "      <td>0.378192</td>\n",
              "      <td>2.787563</td>\n",
              "      <td>9.316062</td>\n",
              "      <td>-4.451181</td>\n",
              "      <td>2.910890</td>\n",
              "      <td>1.826487</td>\n",
              "      <td>2.448398</td>\n",
              "      <td>8.532267</td>\n",
              "      <td>-5.928687</td>\n",
              "      <td>13.032363</td>\n",
              "      <td>-6.220285</td>\n",
              "      <td>4.767183</td>\n",
              "      <td>-3.243019</td>\n",
              "      <td>3.177322</td>\n",
              "      <td>-7.358551</td>\n",
              "      <td>-0.178495</td>\n",
              "    </tr>\n",
              "  </tbody>\n",
              "</table>\n",
              "</div>"
            ],
            "text/plain": [
              "                 track_id  chroma_stft      rmse  ...    mfcc18    mfcc19    mfcc20\n",
              "0  7m7SLo5HUI0DyDXzMh8wNv     0.461419  0.349618  ...  3.239243  3.219959  4.650892\n",
              "1  6d67dxOSfGKh5PdajyLSWm     0.483012  0.265985  ...  8.789327  3.231066  2.853462\n",
              "2  6226wcHJbifKCqhN8ZCkMg     0.364345  0.188669  ... -0.674645 -7.189997  2.244162\n",
              "3  2G4iTsdENLdVI8mWxZ6l6n     0.426456  0.225496  ... -0.692641 -2.682045  0.892190\n",
              "4  2btKz4s1XrMn5VHe7xZJpi     0.396857  0.315556  ...  3.177322 -7.358551 -0.178495\n",
              "\n",
              "[5 rows x 27 columns]"
            ]
          },
          "metadata": {
            "tags": []
          },
          "execution_count": 9
        }
      ]
    },
    {
      "cell_type": "code",
      "metadata": {
        "colab": {
          "base_uri": "https://localhost:8080/",
          "height": 203
        },
        "id": "NmW-_b3bV97W",
        "outputId": "510c7bb4-3595-4bfd-c3e5-636ffc618ec9"
      },
      "source": [
        "genre = pd.read_pickle('tracks_with_sample.pkl')[['track_id', 'genre']]\n",
        "genre = genre[genre['genre'].isin(genres)]\n",
        "genre.head()"
      ],
      "execution_count": 10,
      "outputs": [
        {
          "output_type": "execute_result",
          "data": {
            "text/html": [
              "<div>\n",
              "<style scoped>\n",
              "    .dataframe tbody tr th:only-of-type {\n",
              "        vertical-align: middle;\n",
              "    }\n",
              "\n",
              "    .dataframe tbody tr th {\n",
              "        vertical-align: top;\n",
              "    }\n",
              "\n",
              "    .dataframe thead th {\n",
              "        text-align: right;\n",
              "    }\n",
              "</style>\n",
              "<table border=\"1\" class=\"dataframe\">\n",
              "  <thead>\n",
              "    <tr style=\"text-align: right;\">\n",
              "      <th></th>\n",
              "      <th>track_id</th>\n",
              "      <th>genre</th>\n",
              "    </tr>\n",
              "  </thead>\n",
              "  <tbody>\n",
              "    <tr>\n",
              "      <th>2467967</th>\n",
              "      <td>4Q8oSQuKKsD7TPOamqe9PD</td>\n",
              "      <td>blues</td>\n",
              "    </tr>\n",
              "    <tr>\n",
              "      <th>2467969</th>\n",
              "      <td>4ZuteqxaqzNneO9qXToPBf</td>\n",
              "      <td>blues</td>\n",
              "    </tr>\n",
              "    <tr>\n",
              "      <th>2720911</th>\n",
              "      <td>2JLAr5J7fP4IsRtx9cLkWN</td>\n",
              "      <td>jazz</td>\n",
              "    </tr>\n",
              "    <tr>\n",
              "      <th>2720913</th>\n",
              "      <td>3DIlFc3fn9GBy8KhJdSQAb</td>\n",
              "      <td>jazz</td>\n",
              "    </tr>\n",
              "    <tr>\n",
              "      <th>2720915</th>\n",
              "      <td>0vak1oPiTnzC32ydpB9pBD</td>\n",
              "      <td>jazz</td>\n",
              "    </tr>\n",
              "  </tbody>\n",
              "</table>\n",
              "</div>"
            ],
            "text/plain": [
              "                       track_id  genre\n",
              "2467967  4Q8oSQuKKsD7TPOamqe9PD  blues\n",
              "2467969  4ZuteqxaqzNneO9qXToPBf  blues\n",
              "2720911  2JLAr5J7fP4IsRtx9cLkWN   jazz\n",
              "2720913  3DIlFc3fn9GBy8KhJdSQAb   jazz\n",
              "2720915  0vak1oPiTnzC32ydpB9pBD   jazz"
            ]
          },
          "metadata": {
            "tags": []
          },
          "execution_count": 10
        }
      ]
    },
    {
      "cell_type": "code",
      "metadata": {
        "colab": {
          "base_uri": "https://localhost:8080/",
          "height": 223
        },
        "id": "594r3MpUW18y",
        "outputId": "ebf14ab4-46d6-4f76-92c5-65376efbdd85"
      },
      "source": [
        "data = csv.merge(genre, how = 'right', on = 'track_id')\n",
        "data.drop('track_id', axis = 1, inplace = True)\n",
        "data.head()"
      ],
      "execution_count": 11,
      "outputs": [
        {
          "output_type": "execute_result",
          "data": {
            "text/html": [
              "<div>\n",
              "<style scoped>\n",
              "    .dataframe tbody tr th:only-of-type {\n",
              "        vertical-align: middle;\n",
              "    }\n",
              "\n",
              "    .dataframe tbody tr th {\n",
              "        vertical-align: top;\n",
              "    }\n",
              "\n",
              "    .dataframe thead th {\n",
              "        text-align: right;\n",
              "    }\n",
              "</style>\n",
              "<table border=\"1\" class=\"dataframe\">\n",
              "  <thead>\n",
              "    <tr style=\"text-align: right;\">\n",
              "      <th></th>\n",
              "      <th>chroma_stft</th>\n",
              "      <th>rmse</th>\n",
              "      <th>spectral_centroid</th>\n",
              "      <th>spectral_bandwidth</th>\n",
              "      <th>rolloff</th>\n",
              "      <th>zero_crossing_rate</th>\n",
              "      <th>mfcc1</th>\n",
              "      <th>mfcc2</th>\n",
              "      <th>mfcc3</th>\n",
              "      <th>mfcc4</th>\n",
              "      <th>mfcc5</th>\n",
              "      <th>mfcc6</th>\n",
              "      <th>mfcc7</th>\n",
              "      <th>mfcc8</th>\n",
              "      <th>mfcc9</th>\n",
              "      <th>mfcc10</th>\n",
              "      <th>mfcc11</th>\n",
              "      <th>mfcc12</th>\n",
              "      <th>mfcc13</th>\n",
              "      <th>mfcc14</th>\n",
              "      <th>mfcc15</th>\n",
              "      <th>mfcc16</th>\n",
              "      <th>mfcc17</th>\n",
              "      <th>mfcc18</th>\n",
              "      <th>mfcc19</th>\n",
              "      <th>mfcc20</th>\n",
              "      <th>genre</th>\n",
              "    </tr>\n",
              "  </thead>\n",
              "  <tbody>\n",
              "    <tr>\n",
              "      <th>0</th>\n",
              "      <td>0.243430</td>\n",
              "      <td>0.104506</td>\n",
              "      <td>1829.611181</td>\n",
              "      <td>1936.156983</td>\n",
              "      <td>3553.403513</td>\n",
              "      <td>0.099078</td>\n",
              "      <td>-159.782944</td>\n",
              "      <td>109.528542</td>\n",
              "      <td>-26.547613</td>\n",
              "      <td>16.328909</td>\n",
              "      <td>-8.790853</td>\n",
              "      <td>3.785009</td>\n",
              "      <td>-8.694206</td>\n",
              "      <td>-2.677922</td>\n",
              "      <td>-14.511781</td>\n",
              "      <td>-6.773925</td>\n",
              "      <td>-8.081242</td>\n",
              "      <td>-6.631172</td>\n",
              "      <td>-14.921545</td>\n",
              "      <td>-3.785332</td>\n",
              "      <td>-9.210418</td>\n",
              "      <td>-3.357559</td>\n",
              "      <td>-4.879929</td>\n",
              "      <td>1.076374</td>\n",
              "      <td>-9.525467</td>\n",
              "      <td>-11.107369</td>\n",
              "      <td>blues</td>\n",
              "    </tr>\n",
              "    <tr>\n",
              "      <th>1</th>\n",
              "      <td>0.268396</td>\n",
              "      <td>0.129339</td>\n",
              "      <td>1860.682326</td>\n",
              "      <td>2041.435587</td>\n",
              "      <td>3869.226603</td>\n",
              "      <td>0.086167</td>\n",
              "      <td>-135.968094</td>\n",
              "      <td>104.179352</td>\n",
              "      <td>-20.840080</td>\n",
              "      <td>32.833786</td>\n",
              "      <td>-3.024058</td>\n",
              "      <td>9.973715</td>\n",
              "      <td>-11.523556</td>\n",
              "      <td>1.395892</td>\n",
              "      <td>-10.340799</td>\n",
              "      <td>-0.803586</td>\n",
              "      <td>-8.905837</td>\n",
              "      <td>-10.700939</td>\n",
              "      <td>-12.334221</td>\n",
              "      <td>-2.153023</td>\n",
              "      <td>-6.464903</td>\n",
              "      <td>-3.050731</td>\n",
              "      <td>-12.755614</td>\n",
              "      <td>0.326999</td>\n",
              "      <td>-5.610766</td>\n",
              "      <td>-5.840787</td>\n",
              "      <td>blues</td>\n",
              "    </tr>\n",
              "    <tr>\n",
              "      <th>2</th>\n",
              "      <td>0.245805</td>\n",
              "      <td>0.080863</td>\n",
              "      <td>656.938001</td>\n",
              "      <td>641.831179</td>\n",
              "      <td>1036.285400</td>\n",
              "      <td>0.046268</td>\n",
              "      <td>-308.233215</td>\n",
              "      <td>199.661728</td>\n",
              "      <td>10.691067</td>\n",
              "      <td>-10.488408</td>\n",
              "      <td>8.946229</td>\n",
              "      <td>-8.338365</td>\n",
              "      <td>-15.073838</td>\n",
              "      <td>-10.456519</td>\n",
              "      <td>-9.444200</td>\n",
              "      <td>-8.608827</td>\n",
              "      <td>-6.823158</td>\n",
              "      <td>-3.909892</td>\n",
              "      <td>-1.406227</td>\n",
              "      <td>-1.713691</td>\n",
              "      <td>-4.447212</td>\n",
              "      <td>-6.944537</td>\n",
              "      <td>-4.257952</td>\n",
              "      <td>0.356190</td>\n",
              "      <td>-0.677116</td>\n",
              "      <td>-2.676275</td>\n",
              "      <td>jazz</td>\n",
              "    </tr>\n",
              "    <tr>\n",
              "      <th>3</th>\n",
              "      <td>0.324553</td>\n",
              "      <td>0.276939</td>\n",
              "      <td>1225.493974</td>\n",
              "      <td>1549.801883</td>\n",
              "      <td>2518.318105</td>\n",
              "      <td>0.050359</td>\n",
              "      <td>-108.475716</td>\n",
              "      <td>151.296997</td>\n",
              "      <td>-8.459536</td>\n",
              "      <td>54.363319</td>\n",
              "      <td>0.505408</td>\n",
              "      <td>12.177233</td>\n",
              "      <td>-5.776083</td>\n",
              "      <td>-1.061937</td>\n",
              "      <td>-5.680620</td>\n",
              "      <td>-2.491732</td>\n",
              "      <td>-4.425607</td>\n",
              "      <td>0.148907</td>\n",
              "      <td>-0.760442</td>\n",
              "      <td>-6.927999</td>\n",
              "      <td>-4.028503</td>\n",
              "      <td>1.148414</td>\n",
              "      <td>-2.570627</td>\n",
              "      <td>0.630785</td>\n",
              "      <td>-1.806599</td>\n",
              "      <td>3.001308</td>\n",
              "      <td>jazz</td>\n",
              "    </tr>\n",
              "    <tr>\n",
              "      <th>4</th>\n",
              "      <td>0.371651</td>\n",
              "      <td>0.076296</td>\n",
              "      <td>1002.920863</td>\n",
              "      <td>1807.077989</td>\n",
              "      <td>1769.647633</td>\n",
              "      <td>0.026803</td>\n",
              "      <td>-293.166504</td>\n",
              "      <td>142.873169</td>\n",
              "      <td>43.260677</td>\n",
              "      <td>25.694273</td>\n",
              "      <td>5.471840</td>\n",
              "      <td>15.822524</td>\n",
              "      <td>-0.577713</td>\n",
              "      <td>0.897702</td>\n",
              "      <td>-4.822966</td>\n",
              "      <td>7.010815</td>\n",
              "      <td>1.959140</td>\n",
              "      <td>0.615736</td>\n",
              "      <td>-0.206565</td>\n",
              "      <td>-0.231033</td>\n",
              "      <td>-4.657780</td>\n",
              "      <td>-1.511053</td>\n",
              "      <td>-4.188111</td>\n",
              "      <td>0.357045</td>\n",
              "      <td>-3.720739</td>\n",
              "      <td>-0.517207</td>\n",
              "      <td>jazz</td>\n",
              "    </tr>\n",
              "  </tbody>\n",
              "</table>\n",
              "</div>"
            ],
            "text/plain": [
              "   chroma_stft      rmse  spectral_centroid  ...    mfcc19     mfcc20  genre\n",
              "0     0.243430  0.104506        1829.611181  ... -9.525467 -11.107369  blues\n",
              "1     0.268396  0.129339        1860.682326  ... -5.610766  -5.840787  blues\n",
              "2     0.245805  0.080863         656.938001  ... -0.677116  -2.676275   jazz\n",
              "3     0.324553  0.276939        1225.493974  ... -1.806599   3.001308   jazz\n",
              "4     0.371651  0.076296        1002.920863  ... -3.720739  -0.517207   jazz\n",
              "\n",
              "[5 rows x 27 columns]"
            ]
          },
          "metadata": {
            "tags": []
          },
          "execution_count": 11
        }
      ]
    },
    {
      "cell_type": "code",
      "metadata": {
        "colab": {
          "base_uri": "https://localhost:8080/"
        },
        "id": "2q2KEMX5meNW",
        "outputId": "b61ed4a4-f0ad-47a9-eb3b-d05ff22e423f"
      },
      "source": [
        "x = data.drop('genre', axis = 1)\n",
        "y = data['genre']\n",
        "print(x.shape)\n",
        "print(y.shape)"
      ],
      "execution_count": 12,
      "outputs": [
        {
          "output_type": "stream",
          "text": [
            "(6413, 26)\n",
            "(6413,)\n"
          ],
          "name": "stdout"
        }
      ]
    },
    {
      "cell_type": "code",
      "metadata": {
        "colab": {
          "base_uri": "https://localhost:8080/",
          "height": 315
        },
        "id": "iyif3GBJm9ZC",
        "outputId": "f0142721-d0d4-42c0-e165-39382ef59c53"
      },
      "source": [
        "x.describe()"
      ],
      "execution_count": 13,
      "outputs": [
        {
          "output_type": "execute_result",
          "data": {
            "text/html": [
              "<div>\n",
              "<style scoped>\n",
              "    .dataframe tbody tr th:only-of-type {\n",
              "        vertical-align: middle;\n",
              "    }\n",
              "\n",
              "    .dataframe tbody tr th {\n",
              "        vertical-align: top;\n",
              "    }\n",
              "\n",
              "    .dataframe thead th {\n",
              "        text-align: right;\n",
              "    }\n",
              "</style>\n",
              "<table border=\"1\" class=\"dataframe\">\n",
              "  <thead>\n",
              "    <tr style=\"text-align: right;\">\n",
              "      <th></th>\n",
              "      <th>chroma_stft</th>\n",
              "      <th>rmse</th>\n",
              "      <th>spectral_centroid</th>\n",
              "      <th>spectral_bandwidth</th>\n",
              "      <th>rolloff</th>\n",
              "      <th>zero_crossing_rate</th>\n",
              "      <th>mfcc1</th>\n",
              "      <th>mfcc2</th>\n",
              "      <th>mfcc3</th>\n",
              "      <th>mfcc4</th>\n",
              "      <th>mfcc5</th>\n",
              "      <th>mfcc6</th>\n",
              "      <th>mfcc7</th>\n",
              "      <th>mfcc8</th>\n",
              "      <th>mfcc9</th>\n",
              "      <th>mfcc10</th>\n",
              "      <th>mfcc11</th>\n",
              "      <th>mfcc12</th>\n",
              "      <th>mfcc13</th>\n",
              "      <th>mfcc14</th>\n",
              "      <th>mfcc15</th>\n",
              "      <th>mfcc16</th>\n",
              "      <th>mfcc17</th>\n",
              "      <th>mfcc18</th>\n",
              "      <th>mfcc19</th>\n",
              "      <th>mfcc20</th>\n",
              "    </tr>\n",
              "  </thead>\n",
              "  <tbody>\n",
              "    <tr>\n",
              "      <th>count</th>\n",
              "      <td>6413.000000</td>\n",
              "      <td>6413.000000</td>\n",
              "      <td>6413.000000</td>\n",
              "      <td>6413.000000</td>\n",
              "      <td>6413.000000</td>\n",
              "      <td>6413.000000</td>\n",
              "      <td>6413.000000</td>\n",
              "      <td>6413.000000</td>\n",
              "      <td>6413.000000</td>\n",
              "      <td>6413.000000</td>\n",
              "      <td>6413.000000</td>\n",
              "      <td>6413.000000</td>\n",
              "      <td>6413.000000</td>\n",
              "      <td>6413.000000</td>\n",
              "      <td>6413.000000</td>\n",
              "      <td>6413.000000</td>\n",
              "      <td>6413.000000</td>\n",
              "      <td>6413.000000</td>\n",
              "      <td>6413.000000</td>\n",
              "      <td>6413.000000</td>\n",
              "      <td>6413.000000</td>\n",
              "      <td>6413.000000</td>\n",
              "      <td>6413.000000</td>\n",
              "      <td>6413.000000</td>\n",
              "      <td>6413.000000</td>\n",
              "      <td>6413.000000</td>\n",
              "    </tr>\n",
              "    <tr>\n",
              "      <th>mean</th>\n",
              "      <td>0.420862</td>\n",
              "      <td>0.268223</td>\n",
              "      <td>2396.333550</td>\n",
              "      <td>2427.188214</td>\n",
              "      <td>5089.357850</td>\n",
              "      <td>0.101549</td>\n",
              "      <td>-53.030319</td>\n",
              "      <td>90.777286</td>\n",
              "      <td>2.780759</td>\n",
              "      <td>24.207722</td>\n",
              "      <td>3.491852</td>\n",
              "      <td>10.800727</td>\n",
              "      <td>-0.588414</td>\n",
              "      <td>7.286145</td>\n",
              "      <td>-2.012250</td>\n",
              "      <td>6.067923</td>\n",
              "      <td>-2.464605</td>\n",
              "      <td>4.477604</td>\n",
              "      <td>-2.565899</td>\n",
              "      <td>2.528663</td>\n",
              "      <td>-2.790235</td>\n",
              "      <td>2.731884</td>\n",
              "      <td>-3.463526</td>\n",
              "      <td>2.640156</td>\n",
              "      <td>-2.603370</td>\n",
              "      <td>1.873867</td>\n",
              "    </tr>\n",
              "    <tr>\n",
              "      <th>std</th>\n",
              "      <td>0.095136</td>\n",
              "      <td>0.097614</td>\n",
              "      <td>765.278788</td>\n",
              "      <td>586.597936</td>\n",
              "      <td>1711.883368</td>\n",
              "      <td>0.039092</td>\n",
              "      <td>104.284384</td>\n",
              "      <td>37.486968</td>\n",
              "      <td>20.843685</td>\n",
              "      <td>12.345948</td>\n",
              "      <td>7.406664</td>\n",
              "      <td>7.697932</td>\n",
              "      <td>5.892432</td>\n",
              "      <td>6.678777</td>\n",
              "      <td>5.680268</td>\n",
              "      <td>5.986683</td>\n",
              "      <td>4.737818</td>\n",
              "      <td>5.230465</td>\n",
              "      <td>4.093622</td>\n",
              "      <td>4.582289</td>\n",
              "      <td>3.896650</td>\n",
              "      <td>4.213768</td>\n",
              "      <td>3.693527</td>\n",
              "      <td>3.965869</td>\n",
              "      <td>3.384409</td>\n",
              "      <td>3.935430</td>\n",
              "    </tr>\n",
              "    <tr>\n",
              "      <th>min</th>\n",
              "      <td>0.165254</td>\n",
              "      <td>0.007563</td>\n",
              "      <td>231.183518</td>\n",
              "      <td>316.714776</td>\n",
              "      <td>326.706358</td>\n",
              "      <td>0.010793</td>\n",
              "      <td>-585.002808</td>\n",
              "      <td>3.476090</td>\n",
              "      <td>-69.733444</td>\n",
              "      <td>-30.962936</td>\n",
              "      <td>-35.880371</td>\n",
              "      <td>-33.100578</td>\n",
              "      <td>-36.949379</td>\n",
              "      <td>-22.956245</td>\n",
              "      <td>-43.634136</td>\n",
              "      <td>-26.318457</td>\n",
              "      <td>-27.670605</td>\n",
              "      <td>-25.623213</td>\n",
              "      <td>-24.807171</td>\n",
              "      <td>-20.907988</td>\n",
              "      <td>-22.170406</td>\n",
              "      <td>-19.272221</td>\n",
              "      <td>-26.649666</td>\n",
              "      <td>-17.049248</td>\n",
              "      <td>-22.560471</td>\n",
              "      <td>-17.548855</td>\n",
              "    </tr>\n",
              "    <tr>\n",
              "      <th>25%</th>\n",
              "      <td>0.362817</td>\n",
              "      <td>0.209040</td>\n",
              "      <td>2042.729107</td>\n",
              "      <td>2265.738800</td>\n",
              "      <td>4351.173689</td>\n",
              "      <td>0.073772</td>\n",
              "      <td>-79.889923</td>\n",
              "      <td>67.197472</td>\n",
              "      <td>-10.699335</td>\n",
              "      <td>16.817751</td>\n",
              "      <td>-1.029763</td>\n",
              "      <td>6.851255</td>\n",
              "      <td>-4.016921</td>\n",
              "      <td>4.254329</td>\n",
              "      <td>-5.220384</td>\n",
              "      <td>3.463208</td>\n",
              "      <td>-5.110904</td>\n",
              "      <td>2.007865</td>\n",
              "      <td>-4.972237</td>\n",
              "      <td>0.073005</td>\n",
              "      <td>-5.178960</td>\n",
              "      <td>0.629079</td>\n",
              "      <td>-5.666915</td>\n",
              "      <td>0.542987</td>\n",
              "      <td>-4.638258</td>\n",
              "      <td>-0.257288</td>\n",
              "    </tr>\n",
              "    <tr>\n",
              "      <th>50%</th>\n",
              "      <td>0.425610</td>\n",
              "      <td>0.275247</td>\n",
              "      <td>2521.326219</td>\n",
              "      <td>2543.547859</td>\n",
              "      <td>5367.659209</td>\n",
              "      <td>0.102531</td>\n",
              "      <td>-22.077248</td>\n",
              "      <td>82.384880</td>\n",
              "      <td>0.675239</td>\n",
              "      <td>23.835888</td>\n",
              "      <td>3.400885</td>\n",
              "      <td>11.457628</td>\n",
              "      <td>-0.287582</td>\n",
              "      <td>8.381601</td>\n",
              "      <td>-1.416137</td>\n",
              "      <td>6.943162</td>\n",
              "      <td>-2.039488</td>\n",
              "      <td>5.237724</td>\n",
              "      <td>-2.352681</td>\n",
              "      <td>2.978090</td>\n",
              "      <td>-2.700878</td>\n",
              "      <td>3.184807</td>\n",
              "      <td>-3.384366</td>\n",
              "      <td>2.980435</td>\n",
              "      <td>-2.498003</td>\n",
              "      <td>2.191798</td>\n",
              "    </tr>\n",
              "    <tr>\n",
              "      <th>75%</th>\n",
              "      <td>0.483800</td>\n",
              "      <td>0.332465</td>\n",
              "      <td>2891.070174</td>\n",
              "      <td>2794.215381</td>\n",
              "      <td>6260.787142</td>\n",
              "      <td>0.127779</td>\n",
              "      <td>14.969823</td>\n",
              "      <td>104.077507</td>\n",
              "      <td>13.211217</td>\n",
              "      <td>31.801117</td>\n",
              "      <td>7.848687</td>\n",
              "      <td>15.603254</td>\n",
              "      <td>3.246293</td>\n",
              "      <td>11.597939</td>\n",
              "      <td>1.756363</td>\n",
              "      <td>9.828288</td>\n",
              "      <td>0.678566</td>\n",
              "      <td>7.864748</td>\n",
              "      <td>0.024997</td>\n",
              "      <td>5.565536</td>\n",
              "      <td>-0.291290</td>\n",
              "      <td>5.450910</td>\n",
              "      <td>-1.090914</td>\n",
              "      <td>5.233492</td>\n",
              "      <td>-0.489888</td>\n",
              "      <td>4.369772</td>\n",
              "    </tr>\n",
              "    <tr>\n",
              "      <th>max</th>\n",
              "      <td>0.708968</td>\n",
              "      <td>0.720604</td>\n",
              "      <td>4597.020988</td>\n",
              "      <td>3550.799933</td>\n",
              "      <td>8590.389722</td>\n",
              "      <td>0.301437</td>\n",
              "      <td>110.011299</td>\n",
              "      <td>250.786667</td>\n",
              "      <td>99.935532</td>\n",
              "      <td>73.756668</td>\n",
              "      <td>52.237282</td>\n",
              "      <td>52.119305</td>\n",
              "      <td>30.414879</td>\n",
              "      <td>39.137123</td>\n",
              "      <td>18.822409</td>\n",
              "      <td>27.092594</td>\n",
              "      <td>17.549774</td>\n",
              "      <td>20.621292</td>\n",
              "      <td>16.224115</td>\n",
              "      <td>21.061314</td>\n",
              "      <td>25.728470</td>\n",
              "      <td>21.508389</td>\n",
              "      <td>19.006201</td>\n",
              "      <td>27.985247</td>\n",
              "      <td>22.486940</td>\n",
              "      <td>21.133535</td>\n",
              "    </tr>\n",
              "  </tbody>\n",
              "</table>\n",
              "</div>"
            ],
            "text/plain": [
              "       chroma_stft         rmse  ...       mfcc19       mfcc20\n",
              "count  6413.000000  6413.000000  ...  6413.000000  6413.000000\n",
              "mean      0.420862     0.268223  ...    -2.603370     1.873867\n",
              "std       0.095136     0.097614  ...     3.384409     3.935430\n",
              "min       0.165254     0.007563  ...   -22.560471   -17.548855\n",
              "25%       0.362817     0.209040  ...    -4.638258    -0.257288\n",
              "50%       0.425610     0.275247  ...    -2.498003     2.191798\n",
              "75%       0.483800     0.332465  ...    -0.489888     4.369772\n",
              "max       0.708968     0.720604  ...    22.486940    21.133535\n",
              "\n",
              "[8 rows x 26 columns]"
            ]
          },
          "metadata": {
            "tags": []
          },
          "execution_count": 13
        }
      ]
    },
    {
      "cell_type": "code",
      "metadata": {
        "id": "T2IXY4rXmZ5j"
      },
      "source": [
        "scaler = StandardScaler()\n",
        "x = scaler.fit_transform(x)"
      ],
      "execution_count": 14,
      "outputs": []
    },
    {
      "cell_type": "code",
      "metadata": {
        "colab": {
          "base_uri": "https://localhost:8080/"
        },
        "id": "bX15c3f-nmpF",
        "outputId": "52a4cfcb-5874-4940-8c22-91c69a9a2090"
      },
      "source": [
        "X_train, X_test, Y_train, Y_test = train_test_split(x, y, test_size = 0.15)\n",
        "print(X_train.shape)\n",
        "print(Y_train.shape)\n",
        "print(X_test.shape)\n",
        "print(Y_test.shape)"
      ],
      "execution_count": 15,
      "outputs": [
        {
          "output_type": "stream",
          "text": [
            "(5451, 26)\n",
            "(5451,)\n",
            "(962, 26)\n",
            "(962,)\n"
          ],
          "name": "stdout"
        }
      ]
    },
    {
      "cell_type": "markdown",
      "metadata": {
        "id": "ea6Uy7AOndu9"
      },
      "source": [
        "# Training the model"
      ]
    },
    {
      "cell_type": "code",
      "metadata": {
        "id": "p8ORhP38nfrg"
      },
      "source": [
        "from sklearn import svm\n",
        "from sklearn.metrics import accuracy_score, plot_confusion_matrix\n",
        "from sklearn.decomposition import PCA\n",
        "from sklearn.pipeline import make_pipeline\n",
        "from sklearn.model_selection import GridSearchCV"
      ],
      "execution_count": 16,
      "outputs": []
    },
    {
      "cell_type": "markdown",
      "metadata": {
        "id": "Ubnwayoxq4Eo"
      },
      "source": [
        "### With Linear SVC"
      ]
    },
    {
      "cell_type": "code",
      "metadata": {
        "colab": {
          "base_uri": "https://localhost:8080/"
        },
        "id": "U0QvZpyenbMc",
        "outputId": "f9ac04b8-c93a-4d05-be32-feaa5694a4ca"
      },
      "source": [
        "clf = svm.LinearSVC()\n",
        "clf.fit(X_train, Y_train)"
      ],
      "execution_count": 17,
      "outputs": [
        {
          "output_type": "stream",
          "text": [
            "/usr/local/lib/python3.7/dist-packages/sklearn/svm/_base.py:947: ConvergenceWarning: Liblinear failed to converge, increase the number of iterations.\n",
            "  \"the number of iterations.\", ConvergenceWarning)\n"
          ],
          "name": "stderr"
        },
        {
          "output_type": "execute_result",
          "data": {
            "text/plain": [
              "LinearSVC(C=1.0, class_weight=None, dual=True, fit_intercept=True,\n",
              "          intercept_scaling=1, loss='squared_hinge', max_iter=1000,\n",
              "          multi_class='ovr', penalty='l2', random_state=None, tol=0.0001,\n",
              "          verbose=0)"
            ]
          },
          "metadata": {
            "tags": []
          },
          "execution_count": 17
        }
      ]
    },
    {
      "cell_type": "code",
      "metadata": {
        "colab": {
          "base_uri": "https://localhost:8080/"
        },
        "id": "NOHF4WF7oSHe",
        "outputId": "9cafe185-7623-4071-908b-d0691e7fdb2f"
      },
      "source": [
        "test_predictions = clf.predict(X_test)\n",
        "print(accuracy_score(Y_test, test_predictions))"
      ],
      "execution_count": 18,
      "outputs": [
        {
          "output_type": "stream",
          "text": [
            "0.6133056133056133\n"
          ],
          "name": "stdout"
        }
      ]
    },
    {
      "cell_type": "code",
      "metadata": {
        "colab": {
          "base_uri": "https://localhost:8080/",
          "height": 297
        },
        "id": "hPUlLbzVoitK",
        "outputId": "1ebd8aeb-531e-4f41-d34d-8aaf88f4d30d"
      },
      "source": [
        "plot_confusion_matrix(clf, X_test, Y_test)"
      ],
      "execution_count": 19,
      "outputs": [
        {
          "output_type": "execute_result",
          "data": {
            "text/plain": [
              "<sklearn.metrics._plot.confusion_matrix.ConfusionMatrixDisplay at 0x7f213e18dfd0>"
            ]
          },
          "metadata": {
            "tags": []
          },
          "execution_count": 19
        },
        {
          "output_type": "display_data",
          "data": {
            "image/png": "[encoded data removed]",
            "text/plain": [
              "<Figure size 432x288 with 2 Axes>"
            ]
          },
          "metadata": {
            "tags": [],
            "needs_background": "light"
          }
        }
      ]
    },
    {
      "cell_type": "markdown",
      "metadata": {
        "id": "goZ61bAGq7pT"
      },
      "source": [
        "### With gridsearch and PCA"
      ]
    },
    {
      "cell_type": "code",
      "metadata": {
        "id": "Bsuams8Mq-ek"
      },
      "source": [
        "pca = PCA(n_components=15, whiten = True)\n",
        "svm = svm.SVC(kernel = 'linear')\n",
        "\n",
        "model = make_pipeline(pca, svm)"
      ],
      "execution_count": 20,
      "outputs": []
    },
    {
      "cell_type": "code",
      "metadata": {
        "id": "q-am1AJwrkAY"
      },
      "source": [
        "param_grid = [\n",
        "              {'svc__C': [1, 10, 100, 1000], 'svc__kernel': ['linear'], 'svc__class_weight': [None, 'balanced'], 'pca__n_components': [5, 10, 15, 20, 26], 'pca__whiten': [True, False]},\n",
        "              {'svc__C': [1, 10, 100, 1000], 'svc__gamma': [0.1, 0.01, 0.001, 0.0001, 0.00001], 'svc__kernel': ['rbf'], 'svc__class_weight': [None, 'balanced'], 'pca__n_components': [5, 10, 15, 20, 26], 'pca__whiten': [True, False]},\n",
        "              {'svc__C': [1, 10, 100, 1000], 'svc__kernel': ['linear'], 'svc__class_weight': [None, 'balanced'], 'pca__n_components': [5, 10, 15, 20, 26], 'pca__whiten': [True, False]},\n",
        "              {'svc__C': [1, 10, 100, 1000], 'svc__gamma': [0.1, 0.01, 0.001, 0.0001, 0.00001], 'svc__kernel': ['rbf'], 'svc__class_weight': [None, 'balanced'], 'pca__n_components': [5, 10, 15, 20, 26], 'pca__whiten': [True, False]} \n",
        "]\n",
        "\n",
        "param_grid1 = [\n",
        "              {'svc__C': [1, 10, 100, 1000], 'svc__kernel': ['linear'], 'svc__class_weight': [None, 'balanced'], 'pca__n_components': [5, 10, 15, 20, 26], 'pca__whiten': [True, False]},\n",
        "              {'svc__C': [1, 10, 100, 1000], 'svc__gamma': [0.1, 0.01, 0.001, 0.0001, 0.00001], 'svc__kernel': ['rbf'], 'svc__class_weight': [None, 'balanced'], 'pca__n_components': [5, 10, 15, 20, 26], 'pca__whiten': [True, False]} \n",
        "]\n",
        "\n",
        "param_grid2 = [\n",
        "              {'svc__C': [1, 10, 100, 1000], 'svc__gamma': [0.1, 0.01, 0.001, 0.0001, 0.00001], 'svc__kernel': ['poly'], 'svc__class_weight': [None, 'balanced'], 'svc__degree': [2, 3, 4, 5], 'pca__n_components': [5, 10, 15, 20, 26], 'pca__whiten': [True, False]},\n",
        "              {'svc__C': [1, 10, 100, 1000], 'svc__gamma': [0.1, 0.01, 0.001, 0.0001, 0.00001], 'svc__kernel': ['sigmoid'], 'svc__class_weight': [None, 'balanced'], 'pca__n_components': [5, 10, 15, 20, 26], 'pca__whiten': [True, False]}\n",
        "]\n",
        "\n",
        "param_grid3 = [\n",
        "              {'svc__C': [1, 10, 100, 1000], 'svc__kernel': ['linear'], 'pca__n_components': [5, 15, 26], 'pca__whiten': [True, False]},\n",
        "              {'svc__C': [1, 10, 100, 1000], 'svc__gamma': [0.1, 0.01, 0.001, 0.0001, 0.00001], 'svc__kernel': ['rbf'], 'pca__n_components': [5, 15, 26], 'pca__whiten': [True, False]} \n",
        "]\n",
        "\n",
        "param_grid4 = [\n",
        "              {'svc__C': [1, 10, 100, 1000], 'svc__kernel': ['linear'], 'pca__n_components': [5, 26]},\n",
        "              {'svc__C': [1, 10, 100, 1000], 'svc__gamma': [0.1, 0.01, 0.001, 0.0001, 0.00001], 'svc__kernel': ['rbf'], 'pca__n_components': [5, 26]} \n",
        "]"
      ],
      "execution_count": 23,
      "outputs": []
    },
    {
      "cell_type": "code",
      "metadata": {
        "colab": {
          "base_uri": "https://localhost:8080/"
        },
        "id": "7swDJtvZtns2",
        "outputId": "d68e0765-7f49-4994-d9a3-a55b98a7e9c2"
      },
      "source": [
        "search = GridSearchCV(model, param_grid = param_grid4)\n",
        "search.fit(X_train, Y_train)"
      ],
      "execution_count": 24,
      "outputs": [
        {
          "output_type": "execute_result",
          "data": {
            "text/plain": [
              "GridSearchCV(cv=None, error_score=nan,\n",
              "             estimator=Pipeline(memory=None,\n",
              "                                steps=[('pca',\n",
              "                                        PCA(copy=True, iterated_power='auto',\n",
              "                                            n_components=15, random_state=None,\n",
              "                                            svd_solver='auto', tol=0.0,\n",
              "                                            whiten=True)),\n",
              "                                       ('svc',\n",
              "                                        SVC(C=1.0, break_ties=False,\n",
              "                                            cache_size=200, class_weight=None,\n",
              "                                            coef0=0.0,\n",
              "                                            decision_function_shape='ovr',\n",
              "                                            degree=3, gamma='scale',\n",
              "                                            kernel='linear', max_iter=-1,...\n",
              "                                            tol=0.001, verbose=False))],\n",
              "                                verbose=False),\n",
              "             iid='deprecated', n_jobs=None,\n",
              "             param_grid=[{'pca__n_components': [5, 26],\n",
              "                          'svc__C': [1, 10, 100, 1000],\n",
              "                          'svc__kernel': ['linear']},\n",
              "                         {'pca__n_components': [5, 26],\n",
              "                          'svc__C': [1, 10, 100, 1000],\n",
              "                          'svc__gamma': [0.1, 0.01, 0.001, 0.0001, 1e-05],\n",
              "                          'svc__kernel': ['rbf']}],\n",
              "             pre_dispatch='2*n_jobs', refit=True, return_train_score=False,\n",
              "             scoring=None, verbose=0)"
            ]
          },
          "metadata": {
            "tags": []
          },
          "execution_count": 24
        }
      ]
    },
    {
      "cell_type": "code",
      "metadata": {
        "colab": {
          "base_uri": "https://localhost:8080/"
        },
        "id": "Y3Vu8NH2vHnF",
        "outputId": "2de58131-341a-4772-f045-aa01e50a6d07"
      },
      "source": [
        "print(search.best_params_)"
      ],
      "execution_count": 27,
      "outputs": [
        {
          "output_type": "stream",
          "text": [
            "{'pca__n_components': 26, 'svc__C': 10, 'svc__gamma': 0.01, 'svc__kernel': 'rbf'}\n"
          ],
          "name": "stdout"
        }
      ]
    },
    {
      "cell_type": "code",
      "metadata": {
        "colab": {
          "base_uri": "https://localhost:8080/"
        },
        "id": "9qDjbJzBan9m",
        "outputId": "6436ad9f-c236-4459-9175-e7d06d97b88b"
      },
      "source": [
        "clf = search.best_estimator_\n",
        "test_predictions = clf.predict(X_test)\n",
        "print(accuracy_score(Y_test, test_predictions))"
      ],
      "execution_count": 28,
      "outputs": [
        {
          "output_type": "stream",
          "text": [
            "0.6860706860706861\n"
          ],
          "name": "stdout"
        }
      ]
    },
    {
      "cell_type": "code",
      "metadata": {
        "colab": {
          "base_uri": "https://localhost:8080/",
          "height": 877
        },
        "id": "16uuDH8za292",
        "outputId": "ae3caeee-4470-48d1-a570-d593ecd102e9"
      },
      "source": [
        "plot_confusion_matrix(clf, X_test, Y_test)"
      ],
      "execution_count": 31,
      "outputs": [
        {
          "output_type": "execute_result",
          "data": {
            "text/plain": [
              "<sklearn.metrics._plot.confusion_matrix.ConfusionMatrixDisplay at 0x7f213e2d7b90>"
            ]
          },
          "metadata": {
            "tags": []
          },
          "execution_count": 31
        },
        {
          "output_type": "display_data",
          "data": {
            "image/png": "[encoded data removed]",
            "text/plain": [
              "<Figure size 1800x1080 with 2 Axes>"
            ]
          },
          "metadata": {
            "tags": [],
            "needs_background": "light"
          }
        }
      ]
    }
  ]
}